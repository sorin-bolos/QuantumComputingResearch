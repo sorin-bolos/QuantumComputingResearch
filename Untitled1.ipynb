{
 "cells": [
  {
   "cell_type": "code",
   "execution_count": 4,
   "metadata": {},
   "outputs": [],
   "source": [
    "import pandas as pd"
   ]
  },
  {
   "cell_type": "code",
   "execution_count": 42,
   "metadata": {},
   "outputs": [
    {
     "data": {
      "text/html": [
       "<div>\n",
       "<style scoped>\n",
       "    .dataframe tbody tr th:only-of-type {\n",
       "        vertical-align: middle;\n",
       "    }\n",
       "\n",
       "    .dataframe tbody tr th {\n",
       "        vertical-align: top;\n",
       "    }\n",
       "\n",
       "    .dataframe thead th {\n",
       "        text-align: right;\n",
       "    }\n",
       "</style>\n",
       "<table border=\"1\" class=\"dataframe\">\n",
       "  <thead>\n",
       "    <tr style=\"text-align: right;\">\n",
       "      <th></th>\n",
       "      <th># Name</th>\n",
       "      <th>Version_qk</th>\n",
       "      <th>Build  Channel_qk</th>\n",
       "      <th>Version_qk_d_e</th>\n",
       "      <th>Build  Channel_qk_d_e</th>\n",
       "    </tr>\n",
       "  </thead>\n",
       "  <tbody>\n",
       "    <tr>\n",
       "      <th>67</th>\n",
       "      <td>qiskit-aqua</td>\n",
       "      <td>0.6.5</td>\n",
       "      <td>pypi_0    pypi</td>\n",
       "      <td>0.7.0</td>\n",
       "      <td>dev_0    &lt;deve</td>\n",
       "    </tr>\n",
       "    <tr>\n",
       "      <th>68</th>\n",
       "      <td>qiskit-ibmq-provider</td>\n",
       "      <td>0.5.0</td>\n",
       "      <td>pypi_0    pypi</td>\n",
       "      <td>0.6.0</td>\n",
       "      <td>pypi_0    pypi</td>\n",
       "    </tr>\n",
       "    <tr>\n",
       "      <th>76</th>\n",
       "      <td>scikit-learn</td>\n",
       "      <td>0.22.2.post1</td>\n",
       "      <td>pypi_0    pypi</td>\n",
       "      <td>0.22.2.pos</td>\n",
       "      <td>pypi_0    pypi</td>\n",
       "    </tr>\n",
       "    <tr>\n",
       "      <th>88</th>\n",
       "      <td>vs2015_runtime</td>\n",
       "      <td>14.16.27012</td>\n",
       "      <td>hf0eaf9b_1</td>\n",
       "      <td>14.16.2701</td>\n",
       "      <td>hf0eaf9b_1</td>\n",
       "    </tr>\n",
       "  </tbody>\n",
       "</table>\n",
       "</div>"
      ],
      "text/plain": [
       "                  # Name    Version_qk Build  Channel_qk Version_qk_d_e  \\\n",
       "67           qiskit-aqua         0.6.5    pypi_0    pypi          0.7.0   \n",
       "68  qiskit-ibmq-provider         0.5.0    pypi_0    pypi          0.6.0   \n",
       "76          scikit-learn  0.22.2.post1    pypi_0    pypi     0.22.2.pos   \n",
       "88        vs2015_runtime   14.16.27012        hf0eaf9b_1     14.16.2701   \n",
       "\n",
       "   Build  Channel_qk_d_e  \n",
       "67        dev_0    <deve  \n",
       "68        pypi_0    pypi  \n",
       "76        pypi_0    pypi  \n",
       "88            hf0eaf9b_1  "
      ]
     },
     "execution_count": 42,
     "metadata": {},
     "output_type": "execute_result"
    }
   ],
   "source": [
    "qiskit = pd.read_fwf(\"C:\\Temp\\qiskit_packages.txt\")\n",
    "qiskit_dev_env = pd.read_fwf(\"C:\\Temp\\qiskit-dev-env_packages.txt\")\n",
    "\n",
    "compare = qiskit.merge(qiskit_dev_env, left_on='# Name', right_on='# Name', suffixes=('_qk', '_qk_d_e'), how='left')\n",
    "compare = compare.sort_values(by=['# Name'])\n",
    "#compare\n",
    "compare[compare['Version_qk_d_e'] != compare['Version_qk']]"
   ]
  },
  {
   "cell_type": "code",
   "execution_count": 23,
   "metadata": {},
   "outputs": [
    {
     "data": {
      "text/html": [
       "<div>\n",
       "<style scoped>\n",
       "    .dataframe tbody tr th:only-of-type {\n",
       "        vertical-align: middle;\n",
       "    }\n",
       "\n",
       "    .dataframe tbody tr th {\n",
       "        vertical-align: top;\n",
       "    }\n",
       "\n",
       "    .dataframe thead th {\n",
       "        text-align: right;\n",
       "    }\n",
       "</style>\n",
       "<table border=\"1\" class=\"dataframe\">\n",
       "  <thead>\n",
       "    <tr style=\"text-align: right;\">\n",
       "      <th></th>\n",
       "      <th># Name</th>\n",
       "      <th>Version_qk</th>\n",
       "      <th>Build  Channel_qk</th>\n",
       "      <th>Version_qk_d_e</th>\n",
       "      <th>Build  Channel_qk_d_e</th>\n",
       "    </tr>\n",
       "  </thead>\n",
       "  <tbody>\n",
       "    <tr>\n",
       "      <th>96</th>\n",
       "      <td>alabaster</td>\n",
       "      <td>NaN</td>\n",
       "      <td>NaN</td>\n",
       "      <td>0.7.12</td>\n",
       "      <td>pypi_0    pypi</td>\n",
       "    </tr>\n",
       "  </tbody>\n",
       "</table>\n",
       "</div>"
      ],
      "text/plain": [
       "       # Name Version_qk Build  Channel_qk Version_qk_d_e  \\\n",
       "96  alabaster        NaN               NaN         0.7.12   \n",
       "\n",
       "   Build  Channel_qk_d_e  \n",
       "96        pypi_0    pypi  "
      ]
     },
     "execution_count": 23,
     "metadata": {},
     "output_type": "execute_result"
    }
   ],
   "source": [
    "compare[compare[\"# Name\"] == \"alabaster\"]"
   ]
  }
 ],
 "metadata": {
  "kernelspec": {
   "display_name": "Python 3",
   "language": "python",
   "name": "python3"
  },
  "language_info": {
   "codemirror_mode": {
    "name": "ipython",
    "version": 3
   },
   "file_extension": ".py",
   "mimetype": "text/x-python",
   "name": "python",
   "nbconvert_exporter": "python",
   "pygments_lexer": "ipython3",
   "version": "3.7.7"
  }
 },
 "nbformat": 4,
 "nbformat_minor": 4
}
