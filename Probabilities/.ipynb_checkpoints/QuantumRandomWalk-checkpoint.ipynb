{
 "cells": [
  {
   "cell_type": "code",
   "execution_count": 2,
   "metadata": {},
   "outputs": [],
   "source": [
    "import numpy as np\n",
    "from qiskit import *\n",
    "from qiskit.tools.visualization import plot_histogram"
   ]
  },
  {
   "cell_type": "code",
   "execution_count": 44,
   "metadata": {},
   "outputs": [
    {
     "data": {
      "image/png": "[encoded data removed]",
      "text/plain": [
       "<Figure size 504x360 with 1 Axes>"
      ]
     },
     "execution_count": 44,
     "metadata": {},
     "output_type": "execute_result"
    }
   ],
   "source": [
    "location = QuantumRegister(5)\n",
    "coin = QuantumRegister(1)\n",
    "c = ClassicalRegister(6)\n",
    "\n",
    "circuit = QuantumCircuit(location, coin, c)\n",
    "\n",
    "circuit.x(location[4])\n",
    "\n",
    "circuit.h(coin[0])\n",
    "TakeStep(coin, location, circuit)\n",
    "circuit.h(coin[0])\n",
    "TakeStep(coin, location, circuit)\n",
    "circuit.h(coin[0])\n",
    "TakeStep(coin, location, circuit)\n",
    "#circuit.h(coin[0])\n",
    "#TakeStep(coin, location, circuit)\n",
    "#circuit.h(coin[0])\n",
    "#TakeStep(coin, location, circuit)\n",
    "\n",
    "circuit.measure(range(5), range(5))\n",
    "circuit.draw()\n",
    "\n",
    "localSimulator = Aer.get_backend('qasm_simulator')\n",
    "result = execute(circuit, localSimulator, shots=10000).result()\n",
    "counts = result.get_counts(circuit)\n",
    "plot_histogram(counts)"
   ]
  },
  {
   "cell_type": "code",
   "execution_count": 29,
   "metadata": {},
   "outputs": [],
   "source": [
    "def TakeStep(coinReg, locationReg, circuit):\n",
    "    circuit.x(coinReg[0])\n",
    "    ControlledIncrement(-1, coinReg[0], locationReg, circuit)\n",
    "    circuit.x(coinReg[0])\n",
    "    ControlledIncrement(1, coinReg[0], locationReg, circuit)"
   ]
  },
  {
   "cell_type": "code",
   "execution_count": 21,
   "metadata": {},
   "outputs": [],
   "source": [
    "def Increment(increment, quantumRegister, circuit):\n",
    "    from qiskit.aqua.components.qfts import Standard as qft\n",
    "    from qiskit.aqua.components.iqfts import Standard as iqft\n",
    "    \n",
    "    n = len(quantumRegister)\n",
    "    \n",
    "    qft(n).construct_circuit(qubits=quantumRegister,circuit=circuit)\n",
    "    \n",
    "    for j in range(n):\n",
    "        circuit.u1((np.pi*increment)/(2**(n-1-j)), quantumRegister[j])\n",
    "        \n",
    "    iqft(n).construct_circuit(qubits=quantumRegister,circuit=circuit)\n",
    "    \n",
    "def ControlledIncrement(increment, controlQubit, quantumRegister, circuit):\n",
    "    from qiskit.aqua.components.qfts import Standard as qft\n",
    "    from qiskit.aqua.components.iqfts import Standard as iqft\n",
    "    \n",
    "    n = len(quantumRegister)\n",
    "    \n",
    "    qft(n).construct_circuit(qubits=quantumRegister,circuit=circuit)\n",
    "    \n",
    "    for j in range(n):\n",
    "        circuit.cu1((np.pi*increment)/(2**(n-1-j)), controlQubit, quantumRegister[j])\n",
    "        \n",
    "    iqft(n).construct_circuit(qubits=quantumRegister,circuit=circuit)"
   ]
  }
 ],
 "metadata": {
  "kernelspec": {
   "display_name": "Python 3",
   "language": "python",
   "name": "python3"
  },
  "language_info": {
   "codemirror_mode": {
    "name": "ipython",
    "version": 3
   },
   "file_extension": ".py",
   "mimetype": "text/x-python",
   "name": "python",
   "nbconvert_exporter": "python",
   "pygments_lexer": "ipython3",
   "version": "3.7.4"
  }
 },
 "nbformat": 4,
 "nbformat_minor": 2
}
