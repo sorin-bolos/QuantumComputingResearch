{
 "cells": [
  {
   "cell_type": "code",
   "execution_count": 1,
   "metadata": {},
   "outputs": [
    {
     "data": {
      "text/plain": [
       "<AccountProvider for IBMQ(hub='ibm-q', group='open', project='main')>"
      ]
     },
     "execution_count": 1,
     "metadata": {},
     "output_type": "execute_result"
    }
   ],
   "source": [
    "import math\n",
    "import numpy as np\n",
    "from qiskit import *\n",
    "from qiskit.tools.visualization import plot_histogram, plot_state_city\n",
    "from qiskit.providers.aer import QasmSimulator, StatevectorSimulator, UnitarySimulator\n",
    "from qiskit import IBMQ\n",
    "import matplotlib\n",
    "%matplotlib inline\n",
    "\n",
    "IBMQ.load_account()"
   ]
  },
  {
   "cell_type": "code",
   "execution_count": 2,
   "metadata": {},
   "outputs": [],
   "source": [
    "def getStatevectorFromImage(path):\n",
    "    from PIL import Image\n",
    "    image= Image.open(path)\n",
    "    (width, height) = image.size\n",
    "    pixels = image.load()\n",
    "\n",
    "    ssum = 0\n",
    "    for i in range(width):\n",
    "        for j in range(height):\n",
    "            ssum += pixels[i,j]**2\n",
    "\n",
    "    m = math.floor(math.log(height, 2))\n",
    "    n = math.floor(math.log(width, 2))\n",
    "    stateVector = np.zeros(2**(m+n))\n",
    "    for i in range(width):\n",
    "        for j in range(height):\n",
    "            stateVector[i*height + j] = pixels[i,j]/math.sqrt(ssum)\n",
    "            \n",
    "    return stateVector, m, n"
   ]
  },
  {
   "cell_type": "code",
   "execution_count": 3,
   "metadata": {},
   "outputs": [],
   "source": [
    "def exportQuantumImage(counts, shots, height, width):\n",
    "    from PIL import Image\n",
    "\n",
    "    r = math.floor(math.log(width, 2))\n",
    "    img= Image.new(\"L\", (width, height))\n",
    "    pixels = img.load()\n",
    "\n",
    "    maxAmplitude = 256\n",
    "    medAmplitude = maxAmplitude/2\n",
    "    med = shots/(height * width)\n",
    "    for key in counts:\n",
    "        i = int(key[0:r], 2)\n",
    "        j = int(key[r:], 2)\n",
    "        val = round((((counts[key] - med)/med)*medAmplitude) + medAmplitude)\n",
    "        pixels[i,j] = (val)\n",
    "        \n",
    "    return img"
   ]
  },
  {
   "cell_type": "code",
   "execution_count": 4,
   "metadata": {},
   "outputs": [],
   "source": [
    "def Translate(increment, quantumRegister, circuit):\n",
    "    from qiskit.aqua.components.qfts import Standard as qft\n",
    "    from qiskit.aqua.components.iqfts import Standard as iqft\n",
    "    \n",
    "    n = len(quantumRegister)\n",
    "    \n",
    "    qft(n).construct_circuit(qubits=quantumRegister,circuit=circuit)\n",
    "    \n",
    "    for j in range(n):\n",
    "        circuit.u1((np.pi*increment)/(2**(n-1-j)), quantumRegister[j])\n",
    "        \n",
    "    iqft(n).construct_circuit(qubits=quantumRegister,circuit=circuit)\n",
    "    "
   ]
  },
  {
   "cell_type": "code",
   "execution_count": 5,
   "metadata": {},
   "outputs": [],
   "source": [
    "def Rotate(rowReg, columnReg, circuit):\n",
    "    circuit.x(rowReg)\n",
    "    circuit.x(columnReg)"
   ]
  },
  {
   "cell_type": "code",
   "execution_count": 6,
   "metadata": {},
   "outputs": [],
   "source": [
    "def Transpose(rowReg, columnReg, circuit):\n",
    "    m = rowReg.size\n",
    "    n = columnReg.size\n",
    "    \n",
    "    if (n != m):\n",
    "        raise \"Can only transpose square images\" \n",
    "    \n",
    "    for i in range(n):\n",
    "        circuit.swap(rowReg[i], columnReg[i])"
   ]
  },
  {
   "cell_type": "code",
   "execution_count": 11,
   "metadata": {},
   "outputs": [],
   "source": [
    "from qiskit.aqua.components.qfts import Standard as qft\n",
    "stateVector, m, n = getStatevectorFromImage('document.bmp')\n",
    "\n",
    "state = [complex(x) for x in stateVector]\n",
    "indexes = range(m+n)\n",
    "\n",
    "columnReg = QuantumRegister(n)\n",
    "rowReg = QuantumRegister(m)\n",
    "creg = ClassicalRegister(n+m)\n",
    "\n",
    "circ = QuantumCircuit(rowReg, columnReg, creg)\n",
    "circ.initialize(state, indexes)\n",
    "\n",
    "qft(m).construct_circuit(qubits=rowReg,circuit=circ)\n",
    "qft(n).construct_circuit(qubits=columnReg,circuit=circ)\n",
    "\n",
    "Translate(2**(n-1), rowReg, circ)\n",
    "Translate(2**(m-1), columnReg, circ)\n",
    "circ.measure(indexes, indexes)\n",
    "\n",
    "provider = IBMQ.get_provider(group='open')\n",
    "backend = provider.get_backend('ibmq_qasm_simulator')\n",
    "\n",
    "shots = 2024\n",
    "result = execute(circ, backend, shots=shots).result()\n",
    "counts = result.get_counts(circ)"
   ]
  },
  {
   "cell_type": "code",
   "execution_count": 12,
   "metadata": {},
   "outputs": [
    {
     "data": {
      "text/plain": [
       "(30.0, 5)"
      ]
     },
     "execution_count": 12,
     "metadata": {},
     "output_type": "execute_result"
    }
   ],
   "source": [
    "sortedCounts = sorted(counts.items(), key=lambda kv: kv[1])\n",
    "sortedCounts.reverse()\n",
    "mappedSortedCounts = [((int(c[0][0:n], 2), int(c[0][n:], 2)), c[1]) for c in sortedCounts]\n",
    "minOffset = 2**(m-2)\n",
    "\n",
    "def hasMinimumOffset(point1, point2, minOffset):\n",
    "    colDif = np.abs(point1[0] - point2[0])\n",
    "    if (colDif >= minOffset):\n",
    "        return True\n",
    "    lineDif = np.abs(point1[1] - point2[1])\n",
    "    if (lineDif >= minOffset):\n",
    "        return True\n",
    "    return False\n",
    "\n",
    "def computeAngle(point1, point2):\n",
    "    dx = np.abs(point1[1] - point2[1])\n",
    "    dy = np.abs(point1[0] - point2[0])\n",
    "    angle = np.arctan2(dy, dx)\n",
    "    return np.rad2deg(angle)\n",
    "\n",
    "angles = {}\n",
    "used = []\n",
    "rng = min(50, len(mappedSortedCounts)-1)\n",
    "for i in range(rng):\n",
    "    point1 = mappedSortedCounts[i][0]\n",
    "    if (point1 in used):\n",
    "        continue\n",
    "    used.append(point1)\n",
    "    for p2 in mappedSortedCounts[i+1:]:\n",
    "        point2 = p2[0]\n",
    "        if (point2 in used):\n",
    "            continue\n",
    "        if (hasMinimumOffset(point1, point2, minOffset)):\n",
    "            used.append(point2)\n",
    "            angle = np.round(computeAngle(point1, point2))\n",
    "            angles[angle] = angles.get(angle, 0) + 1\n",
    "            break\n",
    "\n",
    "sortedAngles = sorted(angles.items(), key=lambda kv: kv[1])\n",
    "sortedAngles.reverse()\n",
    "sortedAngles[0]   "
   ]
  },
  {
   "cell_type": "code",
   "execution_count": 13,
   "metadata": {},
   "outputs": [
    {
     "data": {
      "image/png": "[encoded data removed]",
      "text/plain": [
       "<PIL.Image.Image image mode=L size=64x64 at 0x1E04DF511C8>"
      ]
     },
     "execution_count": 13,
     "metadata": {},
     "output_type": "execute_result"
    }
   ],
   "source": [
    "exportQuantumImage(counts, shots, 2**m, 2**n)"
   ]
  }
 ],
 "metadata": {
  "kernelspec": {
   "display_name": "Python 3",
   "language": "python",
   "name": "python3"
  },
  "language_info": {
   "codemirror_mode": {
    "name": "ipython",
    "version": 3
   },
   "file_extension": ".py",
   "mimetype": "text/x-python",
   "name": "python",
   "nbconvert_exporter": "python",
   "pygments_lexer": "ipython3",
   "version": "3.7.4"
  }
 },
 "nbformat": 4,
 "nbformat_minor": 2
}
